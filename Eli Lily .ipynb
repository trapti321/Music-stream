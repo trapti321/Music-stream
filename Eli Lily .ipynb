{
 "cells": [
  {
   "cell_type": "markdown",
   "id": "ecc80fc8",
   "metadata": {},
   "source": [
    "## Hello everyone,\n",
    "### Welcome to my notebook As we know our problem statement is to identify the Type of Music\n",
    "\n",
    "Now,\n",
    "\n",
    "Importing the required Libraries"
   ]
  },
  {
   "cell_type": "code",
   "execution_count": 1,
   "id": "7a1356cb",
   "metadata": {},
   "outputs": [],
   "source": [
    "import pandas as pd\n",
    "import seaborn as sns\n",
    "from sklearn.preprocessing import LabelEncoder\n",
    "from sklearn.metrics import confusion_matrix, classification_report,accuracy_score,precision_score"
   ]
  },
  {
   "cell_type": "markdown",
   "id": "a86c1411",
   "metadata": {},
   "source": [
    "### Importing dataset into pandas\n",
    "\n",
    "1.Importing the data into our pandas.\n",
    "\n",
    "2.Train (saving are training dataset ).\n",
    "\n",
    "3.Test (saving are testing dataset)"
   ]
  },
  {
   "cell_type": "code",
   "execution_count": 2,
   "id": "1a5189e4",
   "metadata": {},
   "outputs": [],
   "source": [
    "train = pd.read_csv('train.csv')\n",
    "test = pd.read_csv('test.csv')\n",
    "sub = pd.read_csv('sample_submission.csv')"
   ]
  },
  {
   "cell_type": "markdown",
   "id": "cd877fc5",
   "metadata": {},
   "source": [
    "### Saving prediction file\n",
    "\n",
    "-We need to create a dataframe \n",
    "- Need to save the index file (instance_id)"
   ]
  },
  {
   "cell_type": "code",
   "execution_count": 3,
   "id": "66a7c254",
   "metadata": {},
   "outputs": [],
   "source": [
    "def download_preds(preds_test, file_name = 'sub.csv'):\n",
    "\n",
    "#      df = pd.DataFrame()\n",
    "     ## 1. Setting the target column with our obtained predictions\n",
    "     sub['instance_id'] = test['instance_id']\n",
    "     sub['music_genre'] = preds_test\n",
    "     ## 2. Saving our predictions to a csv file\n",
    "     sub.to_csv(file_name, index = False)"
   ]
  },
  {
   "cell_type": "code",
   "execution_count": 4,
   "id": "596b5f9f",
   "metadata": {},
   "outputs": [
    {
     "data": {
      "text/html": [
       "<div>\n",
       "<style scoped>\n",
       "    .dataframe tbody tr th:only-of-type {\n",
       "        vertical-align: middle;\n",
       "    }\n",
       "\n",
       "    .dataframe tbody tr th {\n",
       "        vertical-align: top;\n",
       "    }\n",
       "\n",
       "    .dataframe thead th {\n",
       "        text-align: right;\n",
       "    }\n",
       "</style>\n",
       "<table border=\"1\" class=\"dataframe\">\n",
       "  <thead>\n",
       "    <tr style=\"text-align: right;\">\n",
       "      <th></th>\n",
       "      <th>instance_id</th>\n",
       "      <th>music_genre</th>\n",
       "    </tr>\n",
       "  </thead>\n",
       "  <tbody>\n",
       "    <tr>\n",
       "      <th>0</th>\n",
       "      <td>MSC_83537.0</td>\n",
       "      <td>Jazz</td>\n",
       "    </tr>\n",
       "    <tr>\n",
       "      <th>1</th>\n",
       "      <td>MSC_22044.0</td>\n",
       "      <td>Jazz</td>\n",
       "    </tr>\n",
       "    <tr>\n",
       "      <th>2</th>\n",
       "      <td>MSC_62017.0</td>\n",
       "      <td>Rap</td>\n",
       "    </tr>\n",
       "    <tr>\n",
       "      <th>3</th>\n",
       "      <td>MSC_76365.0</td>\n",
       "      <td>Rock</td>\n",
       "    </tr>\n",
       "    <tr>\n",
       "      <th>4</th>\n",
       "      <td>MSC_71493.0</td>\n",
       "      <td>Classical</td>\n",
       "    </tr>\n",
       "  </tbody>\n",
       "</table>\n",
       "</div>"
      ],
      "text/plain": [
       "   instance_id music_genre\n",
       "0  MSC_83537.0        Jazz\n",
       "1  MSC_22044.0        Jazz\n",
       "2  MSC_62017.0         Rap\n",
       "3  MSC_76365.0        Rock\n",
       "4  MSC_71493.0   Classical"
      ]
     },
     "execution_count": 4,
     "metadata": {},
     "output_type": "execute_result"
    }
   ],
   "source": [
    "sub.head()"
   ]
  },
  {
   "cell_type": "markdown",
   "id": "d55ca3e9",
   "metadata": {},
   "source": [
    "### Performing Basic EDA"
   ]
  },
  {
   "cell_type": "code",
   "execution_count": 5,
   "id": "62b44f72",
   "metadata": {},
   "outputs": [
    {
     "data": {
      "text/html": [
       "<div>\n",
       "<style scoped>\n",
       "    .dataframe tbody tr th:only-of-type {\n",
       "        vertical-align: middle;\n",
       "    }\n",
       "\n",
       "    .dataframe tbody tr th {\n",
       "        vertical-align: top;\n",
       "    }\n",
       "\n",
       "    .dataframe thead th {\n",
       "        text-align: right;\n",
       "    }\n",
       "</style>\n",
       "<table border=\"1\" class=\"dataframe\">\n",
       "  <thead>\n",
       "    <tr style=\"text-align: right;\">\n",
       "      <th></th>\n",
       "      <th>instance_id</th>\n",
       "      <th>track_name</th>\n",
       "      <th>popularity</th>\n",
       "      <th>acousticness</th>\n",
       "      <th>danceability</th>\n",
       "      <th>duration_ms</th>\n",
       "      <th>energy</th>\n",
       "      <th>instrumentalness</th>\n",
       "      <th>key</th>\n",
       "      <th>liveness</th>\n",
       "      <th>loudness</th>\n",
       "      <th>voice_gender</th>\n",
       "      <th>mode</th>\n",
       "      <th>speechiness</th>\n",
       "      <th>tempo</th>\n",
       "      <th>musician_category</th>\n",
       "      <th>valence</th>\n",
       "      <th>music_genre</th>\n",
       "    </tr>\n",
       "  </thead>\n",
       "  <tbody>\n",
       "    <tr>\n",
       "      <th>0</th>\n",
       "      <td>MSC_83537.0</td>\n",
       "      <td>Estrellitas y Duendes</td>\n",
       "      <td>49.178</td>\n",
       "      <td>0.970522</td>\n",
       "      <td>0.580508</td>\n",
       "      <td>214625.776</td>\n",
       "      <td>0.192107</td>\n",
       "      <td>0.000000</td>\n",
       "      <td>Scale E</td>\n",
       "      <td>0.147134</td>\n",
       "      <td>-14.140</td>\n",
       "      <td>NaN</td>\n",
       "      <td>Major</td>\n",
       "      <td>0.046404</td>\n",
       "      <td>143.78799999999998</td>\n",
       "      <td>Band</td>\n",
       "      <td>0.598965</td>\n",
       "      <td>Jazz</td>\n",
       "    </tr>\n",
       "    <tr>\n",
       "      <th>1</th>\n",
       "      <td>MSC_22044.0</td>\n",
       "      <td>Al Norte</td>\n",
       "      <td>59.827</td>\n",
       "      <td>1.009380</td>\n",
       "      <td>0.687542</td>\n",
       "      <td>216232.195</td>\n",
       "      <td>0.265942</td>\n",
       "      <td>0.000031</td>\n",
       "      <td>Scale A</td>\n",
       "      <td>0.174655</td>\n",
       "      <td>-13.716</td>\n",
       "      <td>Male</td>\n",
       "      <td>?</td>\n",
       "      <td>0.039949</td>\n",
       "      <td>?</td>\n",
       "      <td>Band</td>\n",
       "      <td>0.357194</td>\n",
       "      <td>Jazz</td>\n",
       "    </tr>\n",
       "    <tr>\n",
       "      <th>2</th>\n",
       "      <td>MSC_62017.0</td>\n",
       "      <td>Yeah! (feat. Lil Jon &amp; Ludacris)</td>\n",
       "      <td>89.023</td>\n",
       "      <td>0.020041</td>\n",
       "      <td>0.967948</td>\n",
       "      <td>273314.723</td>\n",
       "      <td>0.857411</td>\n",
       "      <td>0.000000</td>\n",
       "      <td>Scale D</td>\n",
       "      <td>0.042030</td>\n",
       "      <td>-4.995</td>\n",
       "      <td>Female</td>\n",
       "      <td>Major</td>\n",
       "      <td>0.119917</td>\n",
       "      <td>105.01799999999999</td>\n",
       "      <td>Band</td>\n",
       "      <td>0.635525</td>\n",
       "      <td>Rap</td>\n",
       "    </tr>\n",
       "    <tr>\n",
       "      <th>3</th>\n",
       "      <td>MSC_76365.0</td>\n",
       "      <td>Can’t You See</td>\n",
       "      <td>55.762</td>\n",
       "      <td>0.010284</td>\n",
       "      <td>0.616287</td>\n",
       "      <td>189189.605</td>\n",
       "      <td>0.970513</td>\n",
       "      <td>0.000220</td>\n",
       "      <td>Scale D</td>\n",
       "      <td>0.124637</td>\n",
       "      <td>-4.262</td>\n",
       "      <td>Both</td>\n",
       "      <td>Major</td>\n",
       "      <td>0.167493</td>\n",
       "      <td>?</td>\n",
       "      <td>Duet</td>\n",
       "      <td>0.983750</td>\n",
       "      <td>Rock</td>\n",
       "    </tr>\n",
       "    <tr>\n",
       "      <th>4</th>\n",
       "      <td>MSC_71493.0</td>\n",
       "      <td>Sonata III (G Moll), BWV 1029: Adagio</td>\n",
       "      <td>45.095</td>\n",
       "      <td>0.858769</td>\n",
       "      <td>0.280645</td>\n",
       "      <td>410136.987</td>\n",
       "      <td>0.114732</td>\n",
       "      <td>0.002753</td>\n",
       "      <td>Scale F Sharp</td>\n",
       "      <td>0.134782</td>\n",
       "      <td>-26.922</td>\n",
       "      <td>Female</td>\n",
       "      <td>Minor</td>\n",
       "      <td>0.039139</td>\n",
       "      <td>112.18299999999999</td>\n",
       "      <td>Band</td>\n",
       "      <td>0.074412</td>\n",
       "      <td>Classical</td>\n",
       "    </tr>\n",
       "  </tbody>\n",
       "</table>\n",
       "</div>"
      ],
      "text/plain": [
       "   instance_id                             track_name  popularity  \\\n",
       "0  MSC_83537.0                  Estrellitas y Duendes      49.178   \n",
       "1  MSC_22044.0                               Al Norte      59.827   \n",
       "2  MSC_62017.0       Yeah! (feat. Lil Jon & Ludacris)      89.023   \n",
       "3  MSC_76365.0                          Can’t You See      55.762   \n",
       "4  MSC_71493.0  Sonata III (G Moll), BWV 1029: Adagio      45.095   \n",
       "\n",
       "   acousticness  danceability  duration_ms    energy  instrumentalness  \\\n",
       "0      0.970522      0.580508   214625.776  0.192107          0.000000   \n",
       "1      1.009380      0.687542   216232.195  0.265942          0.000031   \n",
       "2      0.020041      0.967948   273314.723  0.857411          0.000000   \n",
       "3      0.010284      0.616287   189189.605  0.970513          0.000220   \n",
       "4      0.858769      0.280645   410136.987  0.114732          0.002753   \n",
       "\n",
       "             key  liveness  loudness voice_gender   mode  speechiness  \\\n",
       "0        Scale E  0.147134   -14.140          NaN  Major     0.046404   \n",
       "1        Scale A  0.174655   -13.716         Male      ?     0.039949   \n",
       "2        Scale D  0.042030    -4.995       Female  Major     0.119917   \n",
       "3        Scale D  0.124637    -4.262         Both  Major     0.167493   \n",
       "4  Scale F Sharp  0.134782   -26.922       Female  Minor     0.039139   \n",
       "\n",
       "                tempo musician_category   valence music_genre  \n",
       "0  143.78799999999998              Band  0.598965        Jazz  \n",
       "1                   ?              Band  0.357194        Jazz  \n",
       "2  105.01799999999999              Band  0.635525         Rap  \n",
       "3                   ?              Duet  0.983750        Rock  \n",
       "4  112.18299999999999              Band  0.074412   Classical  "
      ]
     },
     "execution_count": 5,
     "metadata": {},
     "output_type": "execute_result"
    }
   ],
   "source": [
    "train.head()"
   ]
  },
  {
   "cell_type": "code",
   "execution_count": 6,
   "id": "7499e1ee",
   "metadata": {},
   "outputs": [
    {
     "data": {
      "text/html": [
       "<div>\n",
       "<style scoped>\n",
       "    .dataframe tbody tr th:only-of-type {\n",
       "        vertical-align: middle;\n",
       "    }\n",
       "\n",
       "    .dataframe tbody tr th {\n",
       "        vertical-align: top;\n",
       "    }\n",
       "\n",
       "    .dataframe thead th {\n",
       "        text-align: right;\n",
       "    }\n",
       "</style>\n",
       "<table border=\"1\" class=\"dataframe\">\n",
       "  <thead>\n",
       "    <tr style=\"text-align: right;\">\n",
       "      <th></th>\n",
       "      <th>instance_id</th>\n",
       "      <th>track_name</th>\n",
       "      <th>popularity</th>\n",
       "      <th>acousticness</th>\n",
       "      <th>danceability</th>\n",
       "      <th>duration_ms</th>\n",
       "      <th>energy</th>\n",
       "      <th>instrumentalness</th>\n",
       "      <th>key</th>\n",
       "      <th>liveness</th>\n",
       "      <th>loudness</th>\n",
       "      <th>voice_gender</th>\n",
       "      <th>mode</th>\n",
       "      <th>speechiness</th>\n",
       "      <th>tempo</th>\n",
       "      <th>musician_category</th>\n",
       "      <th>valence</th>\n",
       "    </tr>\n",
       "  </thead>\n",
       "  <tbody>\n",
       "    <tr>\n",
       "      <th>0</th>\n",
       "      <td>MSC_70753.0</td>\n",
       "      <td>Bard, a Man of Lake-town - Extended Version</td>\n",
       "      <td>26.101</td>\n",
       "      <td>0.823765</td>\n",
       "      <td>0.115490</td>\n",
       "      <td>211462.287</td>\n",
       "      <td>0.125325</td>\n",
       "      <td>0.945272</td>\n",
       "      <td>Scale A Sharp</td>\n",
       "      <td>0.120392</td>\n",
       "      <td>-25.541</td>\n",
       "      <td>Both</td>\n",
       "      <td>Minor</td>\n",
       "      <td>0.038657</td>\n",
       "      <td>80.777</td>\n",
       "      <td>Duet</td>\n",
       "      <td>0.041238</td>\n",
       "    </tr>\n",
       "    <tr>\n",
       "      <th>1</th>\n",
       "      <td>MSC_24064.0</td>\n",
       "      <td>New Kings</td>\n",
       "      <td>66.325</td>\n",
       "      <td>0.015441</td>\n",
       "      <td>0.592838</td>\n",
       "      <td>249151.238</td>\n",
       "      <td>0.870798</td>\n",
       "      <td>0.000108</td>\n",
       "      <td>Scale E</td>\n",
       "      <td>0.406722</td>\n",
       "      <td>-3.905</td>\n",
       "      <td>Male</td>\n",
       "      <td>?</td>\n",
       "      <td>0.051368</td>\n",
       "      <td>76.00399999999999</td>\n",
       "      <td>Band</td>\n",
       "      <td>0.456309</td>\n",
       "    </tr>\n",
       "    <tr>\n",
       "      <th>2</th>\n",
       "      <td>MSC_22731.0</td>\n",
       "      <td>Silver Lining</td>\n",
       "      <td>71.871</td>\n",
       "      <td>0.001006</td>\n",
       "      <td>0.510340</td>\n",
       "      <td>215693.240</td>\n",
       "      <td>0.683077</td>\n",
       "      <td>0.000000</td>\n",
       "      <td>Scale C</td>\n",
       "      <td>0.084608</td>\n",
       "      <td>-6.825</td>\n",
       "      <td>Female</td>\n",
       "      <td>Major</td>\n",
       "      <td>0.034303</td>\n",
       "      <td>144.458</td>\n",
       "      <td>Solo</td>\n",
       "      <td>0.193332</td>\n",
       "    </tr>\n",
       "    <tr>\n",
       "      <th>3</th>\n",
       "      <td>MSC_32095.0</td>\n",
       "      <td>A Tale That Wasn't Right</td>\n",
       "      <td>56.151</td>\n",
       "      <td>0.315650</td>\n",
       "      <td>0.338336</td>\n",
       "      <td>307056.179</td>\n",
       "      <td>0.608904</td>\n",
       "      <td>0.000000</td>\n",
       "      <td>Scale A</td>\n",
       "      <td>0.276811</td>\n",
       "      <td>-8.382</td>\n",
       "      <td>Female</td>\n",
       "      <td>Minor</td>\n",
       "      <td>0.036934</td>\n",
       "      <td>118.145</td>\n",
       "      <td>Solo</td>\n",
       "      <td>0.214906</td>\n",
       "    </tr>\n",
       "    <tr>\n",
       "      <th>4</th>\n",
       "      <td>MSC_24198.0</td>\n",
       "      <td>Get Ready</td>\n",
       "      <td>43.687</td>\n",
       "      <td>0.038336</td>\n",
       "      <td>0.773904</td>\n",
       "      <td>352802.872</td>\n",
       "      <td>0.955500</td>\n",
       "      <td>0.000007</td>\n",
       "      <td>Scale D</td>\n",
       "      <td>0.301726</td>\n",
       "      <td>-4.733</td>\n",
       "      <td>Both</td>\n",
       "      <td>Major</td>\n",
       "      <td>0.079688</td>\n",
       "      <td>95.012</td>\n",
       "      <td>Duet</td>\n",
       "      <td>0.757347</td>\n",
       "    </tr>\n",
       "  </tbody>\n",
       "</table>\n",
       "</div>"
      ],
      "text/plain": [
       "   instance_id                                   track_name  popularity  \\\n",
       "0  MSC_70753.0  Bard, a Man of Lake-town - Extended Version      26.101   \n",
       "1  MSC_24064.0                                    New Kings      66.325   \n",
       "2  MSC_22731.0                                Silver Lining      71.871   \n",
       "3  MSC_32095.0                     A Tale That Wasn't Right      56.151   \n",
       "4  MSC_24198.0                                    Get Ready      43.687   \n",
       "\n",
       "   acousticness  danceability  duration_ms    energy  instrumentalness  \\\n",
       "0      0.823765      0.115490   211462.287  0.125325          0.945272   \n",
       "1      0.015441      0.592838   249151.238  0.870798          0.000108   \n",
       "2      0.001006      0.510340   215693.240  0.683077          0.000000   \n",
       "3      0.315650      0.338336   307056.179  0.608904          0.000000   \n",
       "4      0.038336      0.773904   352802.872  0.955500          0.000007   \n",
       "\n",
       "             key  liveness  loudness voice_gender   mode  speechiness  \\\n",
       "0  Scale A Sharp  0.120392   -25.541         Both  Minor     0.038657   \n",
       "1        Scale E  0.406722    -3.905         Male      ?     0.051368   \n",
       "2        Scale C  0.084608    -6.825       Female  Major     0.034303   \n",
       "3        Scale A  0.276811    -8.382       Female  Minor     0.036934   \n",
       "4        Scale D  0.301726    -4.733         Both  Major     0.079688   \n",
       "\n",
       "               tempo musician_category   valence  \n",
       "0             80.777              Duet  0.041238  \n",
       "1  76.00399999999999              Band  0.456309  \n",
       "2            144.458              Solo  0.193332  \n",
       "3            118.145              Solo  0.214906  \n",
       "4             95.012              Duet  0.757347  "
      ]
     },
     "execution_count": 6,
     "metadata": {},
     "output_type": "execute_result"
    }
   ],
   "source": [
    "test.head()"
   ]
  },
  {
   "cell_type": "code",
   "execution_count": 7,
   "id": "17df70cf",
   "metadata": {},
   "outputs": [
    {
     "data": {
      "text/plain": [
       "instance_id             0\n",
       "track_name              0\n",
       "popularity            642\n",
       "acousticness            0\n",
       "danceability          556\n",
       "duration_ms            94\n",
       "energy                 94\n",
       "instrumentalness       95\n",
       "key                     0\n",
       "liveness                0\n",
       "loudness               36\n",
       "voice_gender          765\n",
       "mode                   35\n",
       "speechiness            26\n",
       "tempo                   0\n",
       "musician_category    1360\n",
       "valence               677\n",
       "music_genre             0\n",
       "dtype: int64"
      ]
     },
     "execution_count": 7,
     "metadata": {},
     "output_type": "execute_result"
    }
   ],
   "source": [
    "train.isnull().sum()"
   ]
  },
  {
   "cell_type": "code",
   "execution_count": 8,
   "id": "c6838242",
   "metadata": {},
   "outputs": [
    {
     "data": {
      "text/plain": [
       "instance_id            0\n",
       "track_name             0\n",
       "popularity           166\n",
       "acousticness           0\n",
       "danceability         139\n",
       "duration_ms           21\n",
       "energy                33\n",
       "instrumentalness      23\n",
       "key                    0\n",
       "liveness               0\n",
       "loudness               3\n",
       "voice_gender         186\n",
       "mode                  14\n",
       "speechiness            7\n",
       "tempo                  0\n",
       "musician_category    312\n",
       "valence              191\n",
       "dtype: int64"
      ]
     },
     "execution_count": 8,
     "metadata": {},
     "output_type": "execute_result"
    }
   ],
   "source": [
    "test.isnull().sum()"
   ]
  },
  {
   "cell_type": "code",
   "execution_count": 9,
   "id": "b09e31aa",
   "metadata": {},
   "outputs": [
    {
     "data": {
      "text/plain": [
       "((15681, 18), (3921, 17))"
      ]
     },
     "execution_count": 9,
     "metadata": {},
     "output_type": "execute_result"
    }
   ],
   "source": [
    "train.shape,test.shape"
   ]
  },
  {
   "cell_type": "code",
   "execution_count": 10,
   "id": "83ab19dc",
   "metadata": {},
   "outputs": [
    {
     "data": {
      "text/plain": [
       "instance_id           object\n",
       "track_name            object\n",
       "popularity           float64\n",
       "acousticness         float64\n",
       "danceability         float64\n",
       "duration_ms          float64\n",
       "energy               float64\n",
       "instrumentalness     float64\n",
       "key                   object\n",
       "liveness             float64\n",
       "loudness             float64\n",
       "voice_gender          object\n",
       "mode                  object\n",
       "speechiness          float64\n",
       "tempo                 object\n",
       "musician_category     object\n",
       "valence              float64\n",
       "music_genre           object\n",
       "dtype: object"
      ]
     },
     "execution_count": 10,
     "metadata": {},
     "output_type": "execute_result"
    }
   ],
   "source": [
    "train.dtypes"
   ]
  },
  {
   "cell_type": "code",
   "execution_count": 11,
   "id": "56dc880f",
   "metadata": {},
   "outputs": [
    {
     "data": {
      "text/plain": [
       "instance_id           object\n",
       "track_name            object\n",
       "popularity           float64\n",
       "acousticness         float64\n",
       "danceability         float64\n",
       "duration_ms          float64\n",
       "energy               float64\n",
       "instrumentalness     float64\n",
       "key                   object\n",
       "liveness             float64\n",
       "loudness             float64\n",
       "voice_gender          object\n",
       "mode                  object\n",
       "speechiness          float64\n",
       "tempo                 object\n",
       "musician_category     object\n",
       "valence              float64\n",
       "dtype: object"
      ]
     },
     "execution_count": 11,
     "metadata": {},
     "output_type": "execute_result"
    }
   ],
   "source": [
    "test.dtypes"
   ]
  },
  {
   "cell_type": "markdown",
   "id": "5c0e6c35",
   "metadata": {},
   "source": [
    "## After the Exploration of data,\n",
    "## What we got to know\n",
    "1.Shape or our data.\n",
    "\n",
    "2.Null / Missing values in our Dataset.\n"
   ]
  },
  {
   "cell_type": "markdown",
   "id": "af498a86",
   "metadata": {},
   "source": [
    "\n",
    "## Visualizing the Data,\n",
    "\n",
    "1.From Seaborn Countplot.\n",
    "\n",
    "2.Heatmap for viewing the strength and directions.\n",
    "\n",
    "3.By this we able to see Positive/Negative correlation between feature.\n"
   ]
  },
  {
   "cell_type": "code",
   "execution_count": 12,
   "id": "765010d3",
   "metadata": {},
   "outputs": [
    {
     "name": "stderr",
     "output_type": "stream",
     "text": [
      "C:\\Users\\Trapti\\AppData\\Local\\Programs\\Python\\Python39\\lib\\site-packages\\seaborn\\_decorators.py:36: FutureWarning: Pass the following variable as a keyword arg: x. From version 0.12, the only valid positional argument will be `data`, and passing other arguments without an explicit keyword will result in an error or misinterpretation.\n",
      "  warnings.warn(\n"
     ]
    },
    {
     "data": {
      "text/plain": [
       "<AxesSubplot:xlabel='music_genre', ylabel='count'>"
      ]
     },
     "execution_count": 12,
     "metadata": {},
     "output_type": "execute_result"
    },
    {
     "data": {
      "image/png": "[encoded data removed]",
      "text/plain": [
       "<Figure size 432x288 with 1 Axes>"
      ]
     },
     "metadata": {
      "needs_background": "light"
     },
     "output_type": "display_data"
    }
   ],
   "source": [
    "sns.countplot(train['music_genre'])"
   ]
  },
  {
   "cell_type": "code",
   "execution_count": 13,
   "id": "fc79e4e6",
   "metadata": {},
   "outputs": [
    {
     "data": {
      "text/plain": [
       "<AxesSubplot:>"
      ]
     },
     "execution_count": 13,
     "metadata": {},
     "output_type": "execute_result"
    },
    {
     "data": {
      "image/png": "[encoded data removed]",
      "text/plain": [
       "<Figure size 432x288 with 2 Axes>"
      ]
     },
     "metadata": {
      "needs_background": "light"
     },
     "output_type": "display_data"
    }
   ],
   "source": [
    "sns.heatmap(train.corr())"
   ]
  },
  {
   "cell_type": "markdown",
   "id": "ab71eca6",
   "metadata": {},
   "source": [
    "## Feature Engineering part\n",
    "\n",
    "1.Filling the Null values\n",
    "\n",
    "2.Converting the categrical features into numeric for better performance of our Model.\n",
    "\n",
    "3.Dropping irrelevant Feature.\n",
    "\n",
    "4.Recheck the Data"
   ]
  },
  {
   "cell_type": "code",
   "execution_count": 14,
   "id": "afb01734",
   "metadata": {},
   "outputs": [],
   "source": [
    "def fill_missing_values(train):\n",
    "    missing_val_columns = train.isnull().sum()[train.isnull().sum() > 0]\n",
    "    missing_val_columns = list(missing_val_columns.index)\n",
    "    for col in missing_val_columns:\n",
    "        mode = train[col].mode().iloc[0]\n",
    "        print(f\"Filling all values in {col} column with: {mode}\")\n",
    "        train[col] = train[col].fillna(mode)\n",
    "    return train"
   ]
  },
  {
   "cell_type": "code",
   "execution_count": 15,
   "id": "39410b45",
   "metadata": {},
   "outputs": [
    {
     "name": "stdout",
     "output_type": "stream",
     "text": [
      "Filling all values in popularity column with: 0.0\n",
      "Filling all values in danceability column with: 0.0639619158498269\n",
      "Filling all values in duration_ms column with: -1.0\n",
      "Filling all values in energy column with: -1.0\n",
      "Filling all values in instrumentalness column with: 0.0\n",
      "Filling all values in loudness column with: -1.0\n",
      "Filling all values in voice_gender column with: Female\n",
      "Filling all values in mode column with: Major\n",
      "Filling all values in speechiness column with: 0.0238577908364341\n",
      "Filling all values in musician_category column with: Band\n",
      "Filling all values in valence column with: 0.0\n"
     ]
    }
   ],
   "source": [
    "train = fill_missing_values(train)"
   ]
  },
  {
   "cell_type": "code",
   "execution_count": 16,
   "id": "9b754e82",
   "metadata": {},
   "outputs": [
    {
     "data": {
      "text/plain": [
       "instance_id          0\n",
       "track_name           0\n",
       "popularity           0\n",
       "acousticness         0\n",
       "danceability         0\n",
       "duration_ms          0\n",
       "energy               0\n",
       "instrumentalness     0\n",
       "key                  0\n",
       "liveness             0\n",
       "loudness             0\n",
       "voice_gender         0\n",
       "mode                 0\n",
       "speechiness          0\n",
       "tempo                0\n",
       "musician_category    0\n",
       "valence              0\n",
       "music_genre          0\n",
       "dtype: int64"
      ]
     },
     "execution_count": 16,
     "metadata": {},
     "output_type": "execute_result"
    }
   ],
   "source": [
    "train.isnull().sum()"
   ]
  },
  {
   "cell_type": "code",
   "execution_count": 17,
   "id": "0be01d70",
   "metadata": {},
   "outputs": [],
   "source": [
    "def fill_missing_values(test):\n",
    "    missing_val_columns = test.isnull().sum()[test.isnull().sum() > 0]\n",
    "    missing_val_columns = list(missing_val_columns.index)\n",
    "    for col in missing_val_columns:\n",
    "        mode = test[col].mode().iloc[0]\n",
    "        print(f\"Filling all values in {col} column with: {mode}\")\n",
    "        test[col] = test[col].fillna(mode)\n",
    "    return test"
   ]
  },
  {
   "cell_type": "code",
   "execution_count": 18,
   "id": "41bc2498",
   "metadata": {},
   "outputs": [
    {
     "name": "stdout",
     "output_type": "stream",
     "text": [
      "Filling all values in popularity column with: 0.0\n",
      "Filling all values in danceability column with: 0.0654246810959073\n",
      "Filling all values in duration_ms column with: -1.0\n",
      "Filling all values in energy column with: -1.0\n",
      "Filling all values in instrumentalness column with: 0.0\n",
      "Filling all values in loudness column with: -1.0\n",
      "Filling all values in voice_gender column with: Both\n",
      "Filling all values in mode column with: Major\n",
      "Filling all values in speechiness column with: 0.0240540794107721\n",
      "Filling all values in musician_category column with: Duet\n",
      "Filling all values in valence column with: 0.0268307125935867\n"
     ]
    }
   ],
   "source": [
    "test = fill_missing_values(test)"
   ]
  },
  {
   "cell_type": "code",
   "execution_count": 19,
   "id": "bdac356f",
   "metadata": {},
   "outputs": [
    {
     "data": {
      "text/plain": [
       "instance_id          0\n",
       "track_name           0\n",
       "popularity           0\n",
       "acousticness         0\n",
       "danceability         0\n",
       "duration_ms          0\n",
       "energy               0\n",
       "instrumentalness     0\n",
       "key                  0\n",
       "liveness             0\n",
       "loudness             0\n",
       "voice_gender         0\n",
       "mode                 0\n",
       "speechiness          0\n",
       "tempo                0\n",
       "musician_category    0\n",
       "valence              0\n",
       "dtype: int64"
      ]
     },
     "execution_count": 19,
     "metadata": {},
     "output_type": "execute_result"
    }
   ],
   "source": [
    "test.isnull().sum()"
   ]
  },
  {
   "cell_type": "code",
   "execution_count": 20,
   "id": "72f8207b",
   "metadata": {},
   "outputs": [
    {
     "data": {
      "text/plain": [
       "Classical     3990\n",
       "Rock          3879\n",
       "Rap           3207\n",
       "Jazz          2850\n",
       "Country        683\n",
       "Electronic     614\n",
       "Hip-Hop        458\n",
       "Name: music_genre, dtype: int64"
      ]
     },
     "execution_count": 20,
     "metadata": {},
     "output_type": "execute_result"
    }
   ],
   "source": [
    "train['music_genre'].value_counts()"
   ]
  },
  {
   "cell_type": "code",
   "execution_count": 21,
   "id": "44ac2cd4",
   "metadata": {},
   "outputs": [],
   "source": [
    "from sklearn.preprocessing import LabelEncoder\n",
    "le = LabelEncoder()\n",
    "var_mod = train.select_dtypes(include='object').columns\n",
    "\n",
    "for i in var_mod:\n",
    "        train[i] = le.fit_transform(train[i])"
   ]
  },
  {
   "cell_type": "code",
   "execution_count": 22,
   "id": "a9e83e1e",
   "metadata": {},
   "outputs": [
    {
     "data": {
      "text/plain": [
       "0    3990\n",
       "6    3879\n",
       "5    3207\n",
       "4    2850\n",
       "1     683\n",
       "2     614\n",
       "3     458\n",
       "Name: music_genre, dtype: int64"
      ]
     },
     "execution_count": 22,
     "metadata": {},
     "output_type": "execute_result"
    }
   ],
   "source": [
    "train['music_genre'].value_counts()"
   ]
  },
  {
   "cell_type": "code",
   "execution_count": 23,
   "id": "52f50a03",
   "metadata": {},
   "outputs": [],
   "source": [
    "test_mod = test.select_dtypes(include='object').columns\n",
    "let = LabelEncoder()\n",
    "for j in test_mod:\n",
    "        test[j] = let.fit_transform(test[j])"
   ]
  },
  {
   "cell_type": "code",
   "execution_count": 24,
   "id": "2d5a874c",
   "metadata": {},
   "outputs": [
    {
     "data": {
      "text/html": [
       "<div>\n",
       "<style scoped>\n",
       "    .dataframe tbody tr th:only-of-type {\n",
       "        vertical-align: middle;\n",
       "    }\n",
       "\n",
       "    .dataframe tbody tr th {\n",
       "        vertical-align: top;\n",
       "    }\n",
       "\n",
       "    .dataframe thead th {\n",
       "        text-align: right;\n",
       "    }\n",
       "</style>\n",
       "<table border=\"1\" class=\"dataframe\">\n",
       "  <thead>\n",
       "    <tr style=\"text-align: right;\">\n",
       "      <th></th>\n",
       "      <th>instance_id</th>\n",
       "      <th>track_name</th>\n",
       "      <th>popularity</th>\n",
       "      <th>acousticness</th>\n",
       "      <th>danceability</th>\n",
       "      <th>duration_ms</th>\n",
       "      <th>energy</th>\n",
       "      <th>instrumentalness</th>\n",
       "      <th>key</th>\n",
       "      <th>liveness</th>\n",
       "      <th>loudness</th>\n",
       "      <th>voice_gender</th>\n",
       "      <th>mode</th>\n",
       "      <th>speechiness</th>\n",
       "      <th>tempo</th>\n",
       "      <th>musician_category</th>\n",
       "      <th>valence</th>\n",
       "      <th>music_genre</th>\n",
       "    </tr>\n",
       "  </thead>\n",
       "  <tbody>\n",
       "    <tr>\n",
       "      <th>0</th>\n",
       "      <td>13864</td>\n",
       "      <td>3659</td>\n",
       "      <td>49.178</td>\n",
       "      <td>0.970522</td>\n",
       "      <td>0.580508</td>\n",
       "      <td>214625.776</td>\n",
       "      <td>0.192107</td>\n",
       "      <td>0.000000</td>\n",
       "      <td>7</td>\n",
       "      <td>0.147134</td>\n",
       "      <td>-14.140</td>\n",
       "      <td>1</td>\n",
       "      <td>1</td>\n",
       "      <td>0.046404</td>\n",
       "      <td>5291</td>\n",
       "      <td>0</td>\n",
       "      <td>0.598965</td>\n",
       "      <td>4</td>\n",
       "    </tr>\n",
       "    <tr>\n",
       "      <th>1</th>\n",
       "      <td>452</td>\n",
       "      <td>540</td>\n",
       "      <td>59.827</td>\n",
       "      <td>1.009380</td>\n",
       "      <td>0.687542</td>\n",
       "      <td>216232.195</td>\n",
       "      <td>0.265942</td>\n",
       "      <td>0.000031</td>\n",
       "      <td>0</td>\n",
       "      <td>0.174655</td>\n",
       "      <td>-13.716</td>\n",
       "      <td>2</td>\n",
       "      <td>0</td>\n",
       "      <td>0.039949</td>\n",
       "      <td>12331</td>\n",
       "      <td>0</td>\n",
       "      <td>0.357194</td>\n",
       "      <td>4</td>\n",
       "    </tr>\n",
       "    <tr>\n",
       "      <th>2</th>\n",
       "      <td>9240</td>\n",
       "      <td>14449</td>\n",
       "      <td>89.023</td>\n",
       "      <td>0.020041</td>\n",
       "      <td>0.967948</td>\n",
       "      <td>273314.723</td>\n",
       "      <td>0.857411</td>\n",
       "      <td>0.000000</td>\n",
       "      <td>5</td>\n",
       "      <td>0.042030</td>\n",
       "      <td>-4.995</td>\n",
       "      <td>1</td>\n",
       "      <td>1</td>\n",
       "      <td>0.119917</td>\n",
       "      <td>615</td>\n",
       "      <td>0</td>\n",
       "      <td>0.635525</td>\n",
       "      <td>5</td>\n",
       "    </tr>\n",
       "    <tr>\n",
       "      <th>3</th>\n",
       "      <td>12348</td>\n",
       "      <td>2022</td>\n",
       "      <td>55.762</td>\n",
       "      <td>0.010284</td>\n",
       "      <td>0.616287</td>\n",
       "      <td>189189.605</td>\n",
       "      <td>0.970513</td>\n",
       "      <td>0.000220</td>\n",
       "      <td>5</td>\n",
       "      <td>0.124637</td>\n",
       "      <td>-4.262</td>\n",
       "      <td>0</td>\n",
       "      <td>1</td>\n",
       "      <td>0.167493</td>\n",
       "      <td>12331</td>\n",
       "      <td>1</td>\n",
       "      <td>0.983750</td>\n",
       "      <td>6</td>\n",
       "    </tr>\n",
       "    <tr>\n",
       "      <th>4</th>\n",
       "      <td>11290</td>\n",
       "      <td>11036</td>\n",
       "      <td>45.095</td>\n",
       "      <td>0.858769</td>\n",
       "      <td>0.280645</td>\n",
       "      <td>410136.987</td>\n",
       "      <td>0.114732</td>\n",
       "      <td>0.002753</td>\n",
       "      <td>9</td>\n",
       "      <td>0.134782</td>\n",
       "      <td>-26.922</td>\n",
       "      <td>1</td>\n",
       "      <td>2</td>\n",
       "      <td>0.039139</td>\n",
       "      <td>1466</td>\n",
       "      <td>0</td>\n",
       "      <td>0.074412</td>\n",
       "      <td>0</td>\n",
       "    </tr>\n",
       "  </tbody>\n",
       "</table>\n",
       "</div>"
      ],
      "text/plain": [
       "   instance_id  track_name  popularity  acousticness  danceability  \\\n",
       "0        13864        3659      49.178      0.970522      0.580508   \n",
       "1          452         540      59.827      1.009380      0.687542   \n",
       "2         9240       14449      89.023      0.020041      0.967948   \n",
       "3        12348        2022      55.762      0.010284      0.616287   \n",
       "4        11290       11036      45.095      0.858769      0.280645   \n",
       "\n",
       "   duration_ms    energy  instrumentalness  key  liveness  loudness  \\\n",
       "0   214625.776  0.192107          0.000000    7  0.147134   -14.140   \n",
       "1   216232.195  0.265942          0.000031    0  0.174655   -13.716   \n",
       "2   273314.723  0.857411          0.000000    5  0.042030    -4.995   \n",
       "3   189189.605  0.970513          0.000220    5  0.124637    -4.262   \n",
       "4   410136.987  0.114732          0.002753    9  0.134782   -26.922   \n",
       "\n",
       "   voice_gender  mode  speechiness  tempo  musician_category   valence  \\\n",
       "0             1     1     0.046404   5291                  0  0.598965   \n",
       "1             2     0     0.039949  12331                  0  0.357194   \n",
       "2             1     1     0.119917    615                  0  0.635525   \n",
       "3             0     1     0.167493  12331                  1  0.983750   \n",
       "4             1     2     0.039139   1466                  0  0.074412   \n",
       "\n",
       "   music_genre  \n",
       "0            4  \n",
       "1            4  \n",
       "2            5  \n",
       "3            6  \n",
       "4            0  "
      ]
     },
     "execution_count": 24,
     "metadata": {},
     "output_type": "execute_result"
    }
   ],
   "source": [
    "train.head()"
   ]
  },
  {
   "cell_type": "code",
   "execution_count": 25,
   "id": "3d458254",
   "metadata": {},
   "outputs": [
    {
     "data": {
      "text/html": [
       "<div>\n",
       "<style scoped>\n",
       "    .dataframe tbody tr th:only-of-type {\n",
       "        vertical-align: middle;\n",
       "    }\n",
       "\n",
       "    .dataframe tbody tr th {\n",
       "        vertical-align: top;\n",
       "    }\n",
       "\n",
       "    .dataframe thead th {\n",
       "        text-align: right;\n",
       "    }\n",
       "</style>\n",
       "<table border=\"1\" class=\"dataframe\">\n",
       "  <thead>\n",
       "    <tr style=\"text-align: right;\">\n",
       "      <th></th>\n",
       "      <th>instance_id</th>\n",
       "      <th>track_name</th>\n",
       "      <th>popularity</th>\n",
       "      <th>acousticness</th>\n",
       "      <th>danceability</th>\n",
       "      <th>duration_ms</th>\n",
       "      <th>energy</th>\n",
       "      <th>instrumentalness</th>\n",
       "      <th>key</th>\n",
       "      <th>liveness</th>\n",
       "      <th>loudness</th>\n",
       "      <th>voice_gender</th>\n",
       "      <th>mode</th>\n",
       "      <th>speechiness</th>\n",
       "      <th>tempo</th>\n",
       "      <th>musician_category</th>\n",
       "      <th>valence</th>\n",
       "    </tr>\n",
       "  </thead>\n",
       "  <tbody>\n",
       "    <tr>\n",
       "      <th>0</th>\n",
       "      <td>2813</td>\n",
       "      <td>346</td>\n",
       "      <td>26.101</td>\n",
       "      <td>0.823765</td>\n",
       "      <td>0.115490</td>\n",
       "      <td>211462.287</td>\n",
       "      <td>0.125325</td>\n",
       "      <td>0.945272</td>\n",
       "      <td>1</td>\n",
       "      <td>0.120392</td>\n",
       "      <td>-25.541</td>\n",
       "      <td>0</td>\n",
       "      <td>2</td>\n",
       "      <td>0.038657</td>\n",
       "      <td>2594</td>\n",
       "      <td>1</td>\n",
       "      <td>0.041238</td>\n",
       "    </tr>\n",
       "    <tr>\n",
       "      <th>1</th>\n",
       "      <td>221</td>\n",
       "      <td>2144</td>\n",
       "      <td>66.325</td>\n",
       "      <td>0.015441</td>\n",
       "      <td>0.592838</td>\n",
       "      <td>249151.238</td>\n",
       "      <td>0.870798</td>\n",
       "      <td>0.000108</td>\n",
       "      <td>7</td>\n",
       "      <td>0.406722</td>\n",
       "      <td>-3.905</td>\n",
       "      <td>2</td>\n",
       "      <td>0</td>\n",
       "      <td>0.051368</td>\n",
       "      <td>2416</td>\n",
       "      <td>0</td>\n",
       "      <td>0.456309</td>\n",
       "    </tr>\n",
       "    <tr>\n",
       "      <th>2</th>\n",
       "      <td>144</td>\n",
       "      <td>2785</td>\n",
       "      <td>71.871</td>\n",
       "      <td>0.001006</td>\n",
       "      <td>0.510340</td>\n",
       "      <td>215693.240</td>\n",
       "      <td>0.683077</td>\n",
       "      <td>0.000000</td>\n",
       "      <td>3</td>\n",
       "      <td>0.084608</td>\n",
       "      <td>-6.825</td>\n",
       "      <td>1</td>\n",
       "      <td>1</td>\n",
       "      <td>0.034303</td>\n",
       "      <td>1512</td>\n",
       "      <td>2</td>\n",
       "      <td>0.193332</td>\n",
       "    </tr>\n",
       "    <tr>\n",
       "      <th>3</th>\n",
       "      <td>687</td>\n",
       "      <td>112</td>\n",
       "      <td>56.151</td>\n",
       "      <td>0.315650</td>\n",
       "      <td>0.338336</td>\n",
       "      <td>307056.179</td>\n",
       "      <td>0.608904</td>\n",
       "      <td>0.000000</td>\n",
       "      <td>0</td>\n",
       "      <td>0.276811</td>\n",
       "      <td>-8.382</td>\n",
       "      <td>1</td>\n",
       "      <td>2</td>\n",
       "      <td>0.036934</td>\n",
       "      <td>634</td>\n",
       "      <td>2</td>\n",
       "      <td>0.214906</td>\n",
       "    </tr>\n",
       "    <tr>\n",
       "      <th>4</th>\n",
       "      <td>228</td>\n",
       "      <td>1171</td>\n",
       "      <td>43.687</td>\n",
       "      <td>0.038336</td>\n",
       "      <td>0.773904</td>\n",
       "      <td>352802.872</td>\n",
       "      <td>0.955500</td>\n",
       "      <td>0.000007</td>\n",
       "      <td>5</td>\n",
       "      <td>0.301726</td>\n",
       "      <td>-4.733</td>\n",
       "      <td>0</td>\n",
       "      <td>1</td>\n",
       "      <td>0.079688</td>\n",
       "      <td>3177</td>\n",
       "      <td>1</td>\n",
       "      <td>0.757347</td>\n",
       "    </tr>\n",
       "  </tbody>\n",
       "</table>\n",
       "</div>"
      ],
      "text/plain": [
       "   instance_id  track_name  popularity  acousticness  danceability  \\\n",
       "0         2813         346      26.101      0.823765      0.115490   \n",
       "1          221        2144      66.325      0.015441      0.592838   \n",
       "2          144        2785      71.871      0.001006      0.510340   \n",
       "3          687         112      56.151      0.315650      0.338336   \n",
       "4          228        1171      43.687      0.038336      0.773904   \n",
       "\n",
       "   duration_ms    energy  instrumentalness  key  liveness  loudness  \\\n",
       "0   211462.287  0.125325          0.945272    1  0.120392   -25.541   \n",
       "1   249151.238  0.870798          0.000108    7  0.406722    -3.905   \n",
       "2   215693.240  0.683077          0.000000    3  0.084608    -6.825   \n",
       "3   307056.179  0.608904          0.000000    0  0.276811    -8.382   \n",
       "4   352802.872  0.955500          0.000007    5  0.301726    -4.733   \n",
       "\n",
       "   voice_gender  mode  speechiness  tempo  musician_category   valence  \n",
       "0             0     2     0.038657   2594                  1  0.041238  \n",
       "1             2     0     0.051368   2416                  0  0.456309  \n",
       "2             1     1     0.034303   1512                  2  0.193332  \n",
       "3             1     2     0.036934    634                  2  0.214906  \n",
       "4             0     1     0.079688   3177                  1  0.757347  "
      ]
     },
     "execution_count": 25,
     "metadata": {},
     "output_type": "execute_result"
    }
   ],
   "source": [
    "test.head()"
   ]
  },
  {
   "cell_type": "markdown",
   "id": "8ebbef78",
   "metadata": {},
   "source": [
    "## Splitting the Dependent and Independent Feature into (X,y)"
   ]
  },
  {
   "cell_type": "code",
   "execution_count": 26,
   "id": "dede4d91",
   "metadata": {},
   "outputs": [],
   "source": [
    "X = train.drop(['music_genre'],axis=1)\n",
    "y = train['music_genre']"
   ]
  },
  {
   "cell_type": "code",
   "execution_count": 27,
   "id": "b490f175",
   "metadata": {},
   "outputs": [
    {
     "data": {
      "text/plain": [
       "((15681, 17), (15681,), (3921, 17))"
      ]
     },
     "execution_count": 27,
     "metadata": {},
     "output_type": "execute_result"
    }
   ],
   "source": [
    "X.shape,y.shape,test.shape"
   ]
  },
  {
   "cell_type": "code",
   "execution_count": 28,
   "id": "5d43f48e",
   "metadata": {},
   "outputs": [],
   "source": [
    "from sklearn.model_selection import train_test_split\n",
    "X_train, X_test, y_train, y_test =train_test_split(X,y, test_size=0.2, random_state =0)"
   ]
  },
  {
   "cell_type": "code",
   "execution_count": 29,
   "id": "66aec23e",
   "metadata": {},
   "outputs": [],
   "source": [
    "from sklearn.metrics import accuracy_score,f1_score\n",
    "import warnings\n",
    "warnings.filterwarnings('ignore')"
   ]
  },
  {
   "cell_type": "code",
   "execution_count": 30,
   "id": "a1db7cf9",
   "metadata": {},
   "outputs": [
    {
     "data": {
      "text/plain": [
       "0.7526299011794708"
      ]
     },
     "execution_count": 30,
     "metadata": {},
     "output_type": "execute_result"
    }
   ],
   "source": [
    "from sklearn.ensemble import RandomForestClassifier\n",
    "rfr = RandomForestClassifier(n_estimators = 10)\n",
    "rfr.fit(X_train,y_train)\n",
    "#Predicting the Test set results\n",
    "y_pred_rfr = rfr.predict(X_test)\n",
    "\n",
    "accuracy_score(y_test,y_pred_rfr)"
   ]
  },
  {
   "cell_type": "markdown",
   "id": "1e0b3f3e",
   "metadata": {},
   "source": [
    "## Displaying the Classification Report "
   ]
  },
  {
   "cell_type": "code",
   "execution_count": 31,
   "id": "8963bde0",
   "metadata": {},
   "outputs": [
    {
     "name": "stdout",
     "output_type": "stream",
     "text": [
      "              precision    recall  f1-score   support\n",
      "\n",
      "           0       0.89      0.91      0.90       797\n",
      "           1       0.56      0.37      0.45       155\n",
      "           2       0.52      0.38      0.44       120\n",
      "           3       0.09      0.02      0.04        89\n",
      "           4       0.70      0.72      0.71       593\n",
      "           5       0.73      0.77      0.75       638\n",
      "           6       0.74      0.82      0.78       745\n",
      "\n",
      "    accuracy                           0.75      3137\n",
      "   macro avg       0.60      0.57      0.58      3137\n",
      "weighted avg       0.73      0.75      0.74      3137\n",
      "\n"
     ]
    }
   ],
   "source": [
    "cr = classification_report(y_test, y_pred_rfr) \n",
    "print(cr) "
   ]
  },
  {
   "cell_type": "markdown",
   "id": "8cf6176f",
   "metadata": {},
   "source": [
    "## Saving the Prediction Data into Csv file "
   ]
  },
  {
   "cell_type": "code",
   "execution_count": 32,
   "id": "4ae8fc30",
   "metadata": {},
   "outputs": [
    {
     "data": {
      "text/plain": [
       "57.98509804301292"
      ]
     },
     "execution_count": 32,
     "metadata": {},
     "output_type": "execute_result"
    }
   ],
   "source": [
    "100*(f1_score(y_test,y_pred_rfr, average=\"macro\"))"
   ]
  },
  {
   "cell_type": "code",
   "execution_count": 33,
   "id": "01927548",
   "metadata": {},
   "outputs": [],
   "source": [
    "test_pred = rfr.predict(test)"
   ]
  },
  {
   "cell_type": "code",
   "execution_count": 34,
   "id": "9323e397",
   "metadata": {},
   "outputs": [
    {
     "data": {
      "text/plain": [
       "array([0, 6, 6, ..., 0, 1, 4])"
      ]
     },
     "execution_count": 34,
     "metadata": {},
     "output_type": "execute_result"
    }
   ],
   "source": [
    "test_pred"
   ]
  },
  {
   "cell_type": "markdown",
   "id": "eb09c8fe",
   "metadata": {},
   "source": [
    "## Save Model"
   ]
  },
  {
   "cell_type": "code",
   "execution_count": 35,
   "id": "57297c31",
   "metadata": {},
   "outputs": [],
   "source": [
    "dff = pd.DataFrame()\n",
    "dff['instance_id'] = test['instance_id']\n",
    "dff['music_genre'] = test_pred\n",
    "dff['music_genre'] = dff['music_genre'].replace((0,1,2,3,4,5,6),('Classical','Country','Electronic','Hip-Hop'\n",
    "                                                                ,'Jazz','Rap','Rock'))"
   ]
  },
  {
   "cell_type": "code",
   "execution_count": 36,
   "id": "b85b068f",
   "metadata": {},
   "outputs": [],
   "source": [
    "dff.to_csv('model.csv',index=False)"
   ]
  },
  {
   "cell_type": "markdown",
   "id": "13431327",
   "metadata": {},
   "source": [
    "# Thanks "
   ]
  }
 ],
 "metadata": {
  "kernelspec": {
   "display_name": "Python 3 (ipykernel)",
   "language": "python",
   "name": "python3"
  },
  "language_info": {
   "codemirror_mode": {
    "name": "ipython",
    "version": 3
   },
   "file_extension": ".py",
   "mimetype": "text/x-python",
   "name": "python",
   "nbconvert_exporter": "python",
   "pygments_lexer": "ipython3",
   "version": "3.9.7"
  }
 },
 "nbformat": 4,
 "nbformat_minor": 5
}
